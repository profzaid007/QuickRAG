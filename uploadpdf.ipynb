{
 "cells": [
  {
   "cell_type": "markdown",
   "id": "464dc0fd-e259-4232-b2ba-3542650df8fa",
   "metadata": {},
   "source": [
    "This is the first of many steps in implementing a local RAG model "
   ]
  },
  {
   "cell_type": "code",
   "execution_count": 1,
   "id": "a7abeb94-7465-44db-882a-4b149d8fba7a",
   "metadata": {},
   "outputs": [],
   "source": [
    "import os\n",
    "import tkinter as tk\n",
    "import PyPDF2\n",
    "import re\n",
    "import json"
   ]
  },
  {
   "cell_type": "code",
   "execution_count": 2,
   "id": "6c390bc1-d755-4d40-8faa-b5386cd75cbb",
   "metadata": {},
   "outputs": [
    {
     "name": "stdout",
     "output_type": "stream",
     "text": [
      "Which type of file do you wish to use? Choose.\n",
      "1. PDF - RAG\n",
      "2. Text - RAG\n",
      "3. JSON - RAG\n"
     ]
    },
    {
     "name": "stdin",
     "output_type": "stream",
     "text": [
      "Enter your option:  2\n",
      "Enter the path of your data ./demo.txt\n"
     ]
    },
    {
     "name": "stdout",
     "output_type": "stream",
     "text": [
      "Text Content appended to dataset.txt - each chunk on a separate line\n"
     ]
    }
   ],
   "source": [
    "\n",
    "def convert_pdf_to_txt(path):\n",
    "    file_path = path;\n",
    "    if file_path:\n",
    "        with open(file_path, 'rb') as pdf_file:\n",
    "            pdf_reader = PyPDF2.PdfReader(pdf_file)\n",
    "            num_pages = len(pdf_reader.pages)\n",
    "            text=''\n",
    "            for page_num in range(num_pages):\n",
    "                page= pdf_reader.pages[page_num]\n",
    "                if page.extract_text():\n",
    "                    text+=page.extract_text()+ \" \"\n",
    "            text = re.sub(r'\\s+',' ',text).strip()\n",
    "\n",
    "            sentences = re.split(r'(?<=[.!?]) +', text)\n",
    "            chunks =[]\n",
    "            current_chunk =\"\"\n",
    "            for sentence in sentences:\n",
    "                if len(current_chunk)+ len(sentence)+1 <1000:\n",
    "                    current_chunk += (sentence + \" \").strip()\n",
    "                else:\n",
    "                    chunks.append(current_chunk)\n",
    "                    current_chunk = sentence+ \" \"\n",
    "            if current_chunk:\n",
    "                chunks.append(current_chunk)\n",
    "            with open(\"dataset.txt\", \"a\", encoding='utf-8') as dataset_file:\n",
    "                for chunk in chunks:\n",
    "                    dataset_file.write(chunk.strip()+ \"\\n\\n\")\n",
    "            print(f\"PDF Content appended to dataset.txt - each chunk on a separate line\")\n",
    "def retrieve_txt(path):\n",
    "    file_path = path\n",
    "    if file_path:\n",
    "        with open(file_path,\"r\",encoding='utf-8') as txt_file:\n",
    "            text = txt_file.read()\n",
    "\n",
    "            text = re.sub(r'\\s+',' ',text).strip()\n",
    "\n",
    "            sentences = re.split(r'(?<=[.!?]) +', text)\n",
    "            chunks = []\n",
    "            current_chunk =\"\"\n",
    "\n",
    "            for sentence in  sentences:\n",
    "                if len(current_chunk) + len(sentence) + 1 <1000:\n",
    "                    current_chunk +=(sentence+ \" \").strip()\n",
    "                else:\n",
    "                    chunks.append(current_chunk)\n",
    "                    current_chunk = sentence + \" \"\n",
    "            if current_chunk:\n",
    "                chunks.append(current_chunk)\n",
    "            with open(\"dataset.txt\", \"a\", encoding=\"utf-8\") as dataset_file:\n",
    "                for chunk in chunks:\n",
    "                    dataset_file.write(chunk.strip()+\"\\n\\n\")\n",
    "            print(f\"Text Content appended to dataset.txt - each chunk on a separate line\")\n",
    "\n",
    "def retrieve_json(path):\n",
    "    file_path = path\n",
    "    if file_path:\n",
    "        with open(file_path,'r',encoding=\"utf-8\") as json_file:\n",
    "            data = json.load(json_file)\n",
    "\n",
    "            text = json.dumps(data, ensure_ascii=False)\n",
    "\n",
    "            text = re.sub(r'\\s+',' ',text).strip()\n",
    "\n",
    "            sentences = re.split(r'(?<=[.!?]) +', text)\n",
    "            chunks = []\n",
    "            current_chunk =\"\"\n",
    "\n",
    "            for sentence in  sentences:\n",
    "                if len(current_chunk) + len(sentence) + 1 <1000:\n",
    "                    current_chunk +=(sentence+ \" \").strip()\n",
    "                else:\n",
    "                    chunks.append(current_chunk)\n",
    "                    current_chunk = sentence + \" \"\n",
    "            if current_chunk:\n",
    "                chunks.append(current_chunk)\n",
    "            with open(\"dataset.txt\", \"a\", encoding=\"utf-8\") as dataset_file:\n",
    "                for chunk in chunks:\n",
    "                    dataset_file.write(chunk.strip()+\"\\n\\n\")\n",
    "            print(f\"JSON Content appended to dataset.txt - each chunk on a separate line\")\n",
    "\n",
    "\n",
    "print(\"Which type of file do you wish to use? Choose.\")\n",
    "print(\"1. PDF - RAG\")\n",
    "print(\"2. Text - RAG\")\n",
    "print(\"3. JSON - RAG\")\n",
    "\n",
    "option = int(input(\"Enter your option: \"))\n",
    "\n",
    "if(option==1):\n",
    "    path = input(\"Enter the path of your data\")\n",
    "    convert_pdf_to_txt(path)\n",
    "elif(option==2):\n",
    "    path = input(\"Enter the path of your data\")\n",
    "    retrieve_txt(path)\n",
    "elif(option==3):\n",
    "    path= input(\"Enter the path of your data\")\n",
    "    retrieve_json(path)"
   ]
  },
  {
   "cell_type": "code",
   "execution_count": null,
   "id": "c0f8fb78-bb5d-40db-bd6f-39585c0af8ac",
   "metadata": {},
   "outputs": [],
   "source": []
  }
 ],
 "metadata": {
  "kernelspec": {
   "display_name": "Base",
   "language": "python",
   "name": "base"
  },
  "language_info": {
   "codemirror_mode": {
    "name": "ipython",
    "version": 3
   },
   "file_extension": ".py",
   "mimetype": "text/x-python",
   "name": "python",
   "nbconvert_exporter": "python",
   "pygments_lexer": "ipython3",
   "version": "3.9.18"
  }
 },
 "nbformat": 4,
 "nbformat_minor": 5
}
